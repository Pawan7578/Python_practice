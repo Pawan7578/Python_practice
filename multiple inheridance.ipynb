{
 "cells": [
  {
   "cell_type": "code",
   "execution_count": 7,
   "id": "2934a3ed-8ba2-40be-9d9b-d01437ff5f68",
   "metadata": {},
   "outputs": [
    {
     "name": "stdin",
     "output_type": "stream",
     "text": [
      "Enter your name:  Pawan\n",
      "Enter your address:  anekal\n",
      "Enter your mobile number:  987654321\n"
     ]
    },
    {
     "name": "stdout",
     "output_type": "stream",
     "text": [
      "\n",
      "Select Room Type:\n",
      "1. Normal Room\n",
      "2. AC Room\n",
      "3. Suite Room\n"
     ]
    },
    {
     "name": "stdin",
     "output_type": "stream",
     "text": [
      "Enter room type (1/2/3):  2\n",
      "Enter the number of rooms:  2\n",
      "Enter the number of days:  3\n"
     ]
    },
    {
     "name": "stdout",
     "output_type": "stream",
     "text": [
      "\n",
      "--- Hotel Booking Details ---\n",
      "Name: Pawan\n",
      "Address: anekal\n",
      "Mobile Number: 987654321\n",
      "Room Type: AC Room\n",
      "Number of Rooms: 2\n",
      "Number of Days: 3\n",
      "Total Rent: 1800 INR\n"
     ]
    }
   ],
   "source": [
    "class NormalRoom:\n",
    "    def calculate(self, no_rooms, days):\n",
    "        if days == 1:\n",
    "            rent_per_room = 300\n",
    "        elif 1 < days <= 5:\n",
    "            rent_per_room = 250\n",
    "        else:\n",
    "            rent_per_room = 200\n",
    "        return no_rooms * days * rent_per_room\n",
    "class ACRoom:\n",
    "    def AC_calculate(self, no_rooms, days):\n",
    "        if days == 1:\n",
    "            rent_per_room = 450\n",
    "        elif 1 < days <= 5:\n",
    "            rent_per_room = 300\n",
    "        else:\n",
    "            rent_per_room = 250\n",
    "        return no_rooms * days * rent_per_room\n",
    "\n",
    "\n",
    "class SuiteRoom:\n",
    "    def suite_calculate(self, no_rooms, days):\n",
    "        if days == 1:\n",
    "            rent_per_room = 550\n",
    "        elif 1 < days <= 5:\n",
    "            rent_per_room = 500\n",
    "        else:\n",
    "            rent_per_room = 450\n",
    "        return no_rooms * days * rent_per_room\n",
    "\n",
    "\n",
    "class Hotel(NormalRoom, ACRoom, SuiteRoom):\n",
    "    def display(self, name, address, mobile_number):\n",
    "        print(\"\\n--- Hotel Booking Details ---\")\n",
    "        print(f\"Name: {name}\")\n",
    "        print(f\"Address: {address}\")\n",
    "        print(f\"Mobile Number: {mobile_number}\")\n",
    "\n",
    "\n",
    "if __name__ == \"__main__\":\n",
    "    \n",
    "    hotel = Hotel()\n",
    "    \n",
    "    \n",
    "    name = input(\"Enter your name: \")\n",
    "    address = input(\"Enter your address: \")\n",
    "    mobile_number = input(\"Enter your mobile number: \")\n",
    "    \n",
    "    \n",
    "    print(\"\\nSelect Room Type:\")\n",
    "    print(\"1. Normal Room\")\n",
    "    print(\"2. AC Room\")\n",
    "    print(\"3. Suite Room\")\n",
    "    \n",
    "    \n",
    "    room_type = int(input(\"Enter room type (1/2/3): \"))\n",
    "    no_rooms = int(input(\"Enter the number of rooms: \"))\n",
    "    days = int(input(\"Enter the number of days: \"))\n",
    "    \n",
    "   \n",
    "    if room_type == 1:\n",
    "        rent = hotel.calculate(no_rooms, days)\n",
    "        room_name = \"Normal Room\"\n",
    "    elif room_type == 2:\n",
    "        rent = hotel.AC_calculate(no_rooms, days)\n",
    "        room_name = \"AC Room\"\n",
    "    elif room_type == 3:\n",
    "        rent = hotel.suite_calculate(no_rooms, days)\n",
    "        room_name = \"Suite Room\"\n",
    "    else:\n",
    "        print(\"Invalid room type selected!\")\n",
    "        exit()\n",
    "    \n",
    "   \n",
    "    hotel.display(name, address, mobile_number)\n",
    "    print(f\"Room Type: {room_name}\")\n",
    "    print(f\"Number of Rooms: {no_rooms}\")\n",
    "    print(f\"Number of Days: {days}\")\n",
    "    print(f\"Total Rent: {rent} INR\")"
   ]
  },
  {
   "cell_type": "code",
   "execution_count": 19,
   "id": "586e1d3d-da2a-47bd-9b44-de103e2277c8",
   "metadata": {},
   "outputs": [
    {
     "name": "stdin",
     "output_type": "stream",
     "text": [
      "Enter your name:  James Bond\n",
      "Enter your staff ID:  007\n",
      "Enter the number of days worked:  14\n",
      "Enter the number of hours worked per day:  5\n"
     ]
    },
    {
     "name": "stdout",
     "output_type": "stream",
     "text": [
      "\n",
      "--- Temporary Staff Details ---\n",
      "Name: James Bond\n",
      "Staff ID: 007\n",
      "Days Worked: 14\n",
      "Hours Per Day: 5\n",
      "Total Salary Earned: 10500 INR\n"
     ]
    }
   ],
   "source": [
    "class Person:\n",
    "    def __init__(self, name):\n",
    "        self.name = name\n",
    "\n",
    "    def display(self):\n",
    "        print(f\"Name: {self.name}\")\n",
    "\n",
    "\n",
    "class Staff(Person):\n",
    "    def __init__(self, name, staff_id):\n",
    "        super().__init__(name)\n",
    "        self.staff_id = staff_id\n",
    "\n",
    "    def display(self):\n",
    "        super().display()\n",
    "        print(f\"Staff ID: {self.staff_id}\")\n",
    "\n",
    "\n",
    "class TemporaryStaff(Staff):\n",
    "    def __init__(self, name, staff_id, days_worked, hours_per_day):\n",
    "        super().__init__(name, staff_id)\n",
    "        self.days_worked = days_worked\n",
    "        self.hours_per_day = hours_per_day\n",
    "\n",
    "    def salary(self):\n",
    "        total_hours = self.days_worked * self.hours_per_day\n",
    "        total_salary = total_hours * 150\n",
    "        return total_salary\n",
    "    def display(self):\n",
    "        super().display()\n",
    "        print(f\"Days Worked: {self.days_worked}\")\n",
    "        print(f\"Hours Per Day: {self.hours_per_day}\")\n",
    "        print(f\"Total Salary Earned: {self.salary()} INR\")\n",
    "if __name__ == \"__main__\":\n",
    "    name = input(\"Enter your name: \")\n",
    "    staff_id = input(\"Enter your staff ID: \")\n",
    "    days_worked = int(input(\"Enter the number of days worked: \"))\n",
    "    hours_per_day = int(input(\"Enter the number of hours worked per day: \"))\n",
    "\n",
    "    temp_staff = TemporaryStaff(name, staff_id, days_worked, hours_per_day)\n",
    "    print(\"\\n--- Temporary Staff Details ---\")\n",
    "    temp_staff.display()"
   ]
  },
  {
   "cell_type": "code",
   "execution_count": null,
   "id": "77e68c79-569f-4edd-96e5-750fa018bdb1",
   "metadata": {},
   "outputs": [],
   "source": []
  }
 ],
 "metadata": {
  "kernelspec": {
   "display_name": "Python 3 (ipykernel)",
   "language": "python",
   "name": "python3"
  },
  "language_info": {
   "codemirror_mode": {
    "name": "ipython",
    "version": 3
   },
   "file_extension": ".py",
   "mimetype": "text/x-python",
   "name": "python",
   "nbconvert_exporter": "python",
   "pygments_lexer": "ipython3",
   "version": "3.12.4"
  }
 },
 "nbformat": 4,
 "nbformat_minor": 5
}
