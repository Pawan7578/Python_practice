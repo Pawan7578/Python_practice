{
 "cells": [
  {
   "cell_type": "code",
   "execution_count": 3,
   "id": "0057d771-ac92-4c0e-92e6-00998d8cbf7e",
   "metadata": {},
   "outputs": [
    {
     "name": "stdout",
     "output_type": "stream",
     "text": [
      "Pawan 21 200000\n"
     ]
    }
   ],
   "source": [
    "class Employee:\n",
    "    def __init__(self,name,age,salary):\n",
    "        self.name=name\n",
    "        self.age=age\n",
    "        self.salary=salary\n",
    "    def printdata(self):\n",
    "        print(self.name,self.age,self.salary)\n",
    "d=Employee(\"Pawan\",21,200000)\n",
    "d.printdata()"
   ]
  },
  {
   "cell_type": "code",
   "execution_count": 5,
   "id": "d63f2548-9970-47be-a9b5-3001e5ac3c3f",
   "metadata": {},
   "outputs": [
    {
     "name": "stdout",
     "output_type": "stream",
     "text": [
      "Name: Audi Id: 200000\n"
     ]
    }
   ],
   "source": [
    "class Car:\n",
    "    car=0\n",
    "    def __init__(self,name,id):\n",
    "        self.name=name\n",
    "        self.id=id\n",
    "        Car.car+=1\n",
    "\n",
    "    def printCardata(self):\n",
    "        print(\"Name:\",self.name,\"Id:\",self.id)\n",
    "c=Car(\"Audi\",200000)\n",
    "c.printCardata()"
   ]
  },
  {
   "cell_type": "code",
   "execution_count": 7,
   "id": "db918ece-85c6-4214-ae2d-c11139097276",
   "metadata": {},
   "outputs": [
    {
     "name": "stdout",
     "output_type": "stream",
     "text": [
      "eagle Crow sparrow\n"
     ]
    }
   ],
   "source": [
    "class Birds:\n",
    "    def __init__(self,b1,b2,b3):\n",
    "        self.b1=b1\n",
    "        self.b2=b2\n",
    "        self.b3=b3\n",
    "    def printdata(self):\n",
    "        print(self.b1,self.b2,self.b3)\n",
    "b=Birds(\"eagle\",\"Crow\",\"sparrow\")\n",
    "b.printdata()"
   ]
  },
  {
   "cell_type": "code",
   "execution_count": 9,
   "id": "9084c7bd-f283-4797-8ebc-9e1f400feeae",
   "metadata": {},
   "outputs": [
    {
     "name": "stdout",
     "output_type": "stream",
     "text": [
      "Positive values: 1 2\n",
      "Negative values: -1 -2\n"
     ]
    }
   ],
   "source": [
    "class Numbers:\n",
    "    def __init__(self, pos1, pos2, neg1, neg2):\n",
    "        self.pos1 = pos1\n",
    "        self.pos2 = pos2\n",
    "        self.neg1 = neg1\n",
    "        self.neg2 = neg2\n",
    "\n",
    "    def printdata(self):\n",
    "        print(\"Positive values:\", self.pos1, self.pos2)\n",
    "        print(\"Negative values:\", self.neg1, self.neg2)\n",
    "\n",
    "b = Numbers(1, 2, -1, -2)\n",
    "b.printdata()"
   ]
  },
  {
   "cell_type": "code",
   "execution_count": 11,
   "id": "00ed08ff-30fd-4fa4-bc6b-a093a897d74f",
   "metadata": {},
   "outputs": [
    {
     "name": "stdin",
     "output_type": "stream",
     "text": [
      "enter a number 8\n"
     ]
    },
    {
     "name": "stdout",
     "output_type": "stream",
     "text": [
      "positive\n"
     ]
    }
   ],
   "source": [
    "class Number:\n",
    "    def __init__(self,n):\n",
    "        self.number=n\n",
    "    def check_num(self):\n",
    "        if self.number>0:\n",
    "            print(\"positive\")\n",
    "        else:\n",
    "            print(\"negative\")\n",
    "\n",
    "\n",
    "n1=Number(int(input(\"enter a number\")))\n",
    "n1.check_num()"
   ]
  },
  {
   "cell_type": "code",
   "execution_count": 13,
   "id": "32517a84-d165-4365-a563-4f10411a46e1",
   "metadata": {},
   "outputs": [
    {
     "name": "stdout",
     "output_type": "stream",
     "text": [
      "Total Cars: 3\n",
      "name: Audi Id: 2000000\n",
      "name: Benz Id: 3000000\n",
      "name: BMW Id: 40000000\n"
     ]
    }
   ],
   "source": [
    "class Car:\n",
    "    'Commom_car'\n",
    "    car=0\n",
    "    def __init__(self,name,id):\n",
    "        self.name=name\n",
    "        self.id=id\n",
    "        Car.car+=1\n",
    "    def printCardata(self):\n",
    "        print(\"name:\",self.name,\"Id:\",self.id)\n",
    "\n",
    "c=Car(\"Audi\",2000000)\n",
    "c1=Car(\"Benz\",3000000)\n",
    "c2=Car(\"BMW\",40000000)\n",
    "print(\"Total Cars:\",Car.car)\n",
    "c.printCardata()\n",
    "c1.printCardata()\n",
    "c2.printCardata()"
   ]
  },
  {
   "cell_type": "code",
   "execution_count": 15,
   "id": "8c31fbe7-f252-467e-ad11-b5c0c7394f22",
   "metadata": {},
   "outputs": [
    {
     "name": "stdout",
     "output_type": "stream",
     "text": [
      "car\n"
     ]
    }
   ],
   "source": [
    "class test:\n",
    "    def __init__(self):\n",
    "        self.variable = 'car'\n",
    "        self.Change(self.variable)\n",
    "    def Change(seklf,var):\n",
    "        var = 'Bike'\n",
    "\n",
    "obj=test()\n",
    "print(obj.variable)"
   ]
  },
  {
   "cell_type": "code",
   "execution_count": 20,
   "id": "f8e4625d-8331-43f5-b6b6-d2518d074ef5",
   "metadata": {},
   "outputs": [
    {
     "name": "stdout",
     "output_type": "stream",
     "text": [
      "powerfullll\n",
      "100km\n"
     ]
    }
   ],
   "source": [
    "class Car:\n",
    "    def speed (self):\n",
    "        print(\"100km\")\n",
    "class Audi(Car):\n",
    "    def engine(self):\n",
    "        print(\"powerfullll\")\n",
    "c= Audi()\n",
    "c.engine()\n",
    "c.speed()"
   ]
  },
  {
   "cell_type": "code",
   "execution_count": 1,
   "id": "83cde52d-8164-45e6-a634-63f30e2438ef",
   "metadata": {},
   "outputs": [
    {
     "name": "stdout",
     "output_type": "stream",
     "text": [
      "BARK\n",
      "MEOW\n"
     ]
    }
   ],
   "source": [
    "class Animal:\n",
    "    def sound(self):\n",
    "        print(\"Some generic sound\")\n",
    "\n",
    "class Dog(Animal):\n",
    "    def sound(self):\n",
    "        print(\"BARK\")\n",
    "\n",
    "class Cat(Animal):\n",
    "    def sound(self):\n",
    "        print(\"MEOW\")\n",
    "\n",
    "dog = Dog()\n",
    "cat = Cat()\n",
    "#overriding\n",
    "dog.sound()\n",
    "cat.sound()"
   ]
  },
  {
   "cell_type": "code",
   "execution_count": 3,
   "id": "a21fc74c-6948-4a07-b9f7-7296ec719c51",
   "metadata": {},
   "outputs": [
    {
     "name": "stdin",
     "output_type": "stream",
     "text": [
      "Enter the first number 3\n",
      "Enter the second number 5\n"
     ]
    },
    {
     "name": "stdout",
     "output_type": "stream",
     "text": [
      "8\n",
      "-2\n",
      "15\n",
      "0.6\n"
     ]
    }
   ],
   "source": [
    "x=int(input(\"Enter the first number\"))\n",
    "y=int(input(\"Enter the second number\"))\n",
    "class calculate:\n",
    "    def sum(self,x,y):\n",
    "      self.x=x\n",
    "      self.y=y\n",
    "      print(self.x+self.y)\n",
    "\n",
    "    def sub(self,x,y):\n",
    "      self.x=x\n",
    "      self.y=y\n",
    "      print(self.x-self.y)\n",
    "\n",
    "class AdvanceCalculate(calculate):\n",
    "    def mul(self,x,y):\n",
    "      self.x=x\n",
    "      self.y=y\n",
    "      print(self.x*self.y)\n",
    "\n",
    "    def div(self,x,y):\n",
    "      self.x=x\n",
    "      self.y=y\n",
    "      print(self.x/self.y)\n",
    "c=AdvanceCalculate()\n",
    "c.sum(x,y)\n",
    "c.sub(x,y)\n",
    "c.mul(x,y)\n",
    "c.div(x,y)"
   ]
  },
  {
   "cell_type": "code",
   "execution_count": 40,
   "id": "ed0ebbfb-1d89-41e0-b5e8-8e51a0ecadae",
   "metadata": {},
   "outputs": [
    {
     "name": "stdin",
     "output_type": "stream",
     "text": [
      " 7\n",
      " 5\n"
     ]
    },
    {
     "name": "stdout",
     "output_type": "stream",
     "text": [
      "addition : 12\n",
      "subtract 2\n",
      "Multiplication 35\n",
      "floor division: 1\n"
     ]
    }
   ],
   "source": [
    "#single inheridence\n",
    "class calc:\n",
    "    def add(self,num1,num2):\n",
    "        self.num1=num1;\n",
    "        self.num2=num2;\n",
    "        return self.num1+self.num2\n",
    "    def sub(self,num1,num2):\n",
    "        return num1-num2;\n",
    "class Advancedcalculator(calc):\n",
    "    def mul(self,num1,num2):\n",
    "        print(\"Multiplication\",num1*num2)\n",
    "    def div(self,num1,num2):\n",
    "        return num1//num2;\n",
    "x=Advancedcalculator()\n",
    "num1=int(input())\n",
    "num2=int(input())\n",
    "print(\"addition : %d\"%(x.add(num1,num2)))\n",
    "print(\"subtract\",x.sub(num1,num2))\n",
    "x.mul(num1,num2)\n",
    "print(\"floor division: %d\"%(x.div(num1,num2)))"
   ]
  },
  {
   "cell_type": "code",
   "execution_count": null,
   "id": "b9c868bc-9910-4f56-883f-759fb92d6ccc",
   "metadata": {},
   "outputs": [],
   "source": []
  }
 ],
 "metadata": {
  "kernelspec": {
   "display_name": "Python 3 (ipykernel)",
   "language": "python",
   "name": "python3"
  },
  "language_info": {
   "codemirror_mode": {
    "name": "ipython",
    "version": 3
   },
   "file_extension": ".py",
   "mimetype": "text/x-python",
   "name": "python",
   "nbconvert_exporter": "python",
   "pygments_lexer": "ipython3",
   "version": "3.12.4"
  }
 },
 "nbformat": 4,
 "nbformat_minor": 5
}
