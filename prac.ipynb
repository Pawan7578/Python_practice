{
 "cells": [
  {
   "cell_type": "code",
   "execution_count": 5,
   "id": "5fa8c724-c284-4eab-a553-54e7b839dcd1",
   "metadata": {},
   "outputs": [
    {
     "name": "stdin",
     "output_type": "stream",
     "text": [
      "Enter an n:  0\n"
     ]
    },
    {
     "name": "stdout",
     "output_type": "stream",
     "text": [
      "The number is zero \n"
     ]
    }
   ],
   "source": [
    "num = int(input(\"Enter an n: \"))\n",
    "if num > 0:\n",
    "    if num % 2 == 0:\n",
    "        print(\"The number is positive and even \")\n",
    "    else:\n",
    "        print(\"The number is positive and odd \")\n",
    "elif num < 0:\n",
    "    if num % 2 == 0:\n",
    "        print(\"The number is negative and even \")\n",
    "    else:\n",
    "        print(\"The number is negative and odd \")\n",
    "else:\n",
    "    print(\"The number is zero \")"
   ]
  },
  {
   "cell_type": "code",
   "execution_count": 1,
   "id": "b671cc6f-ccaf-42ec-ac8a-da4592028fec",
   "metadata": {},
   "outputs": [
    {
     "data": {
      "text/plain": [
       "[1, 2, 3, 4, 5]"
      ]
     },
     "execution_count": 1,
     "metadata": {},
     "output_type": "execute_result"
    }
   ],
   "source": [
    "num=[1,2,3,4,5]\n",
    "num"
   ]
  },
  {
   "cell_type": "code",
   "execution_count": 3,
   "id": "3b2858d3-98c4-47d9-8165-a74065781b97",
   "metadata": {},
   "outputs": [
    {
     "data": {
      "text/plain": [
       "[1.1, 1.2, 1.3, 1.4]"
      ]
     },
     "execution_count": 3,
     "metadata": {},
     "output_type": "execute_result"
    }
   ],
   "source": [
    "num=[1.1,1.2,1.3,1.4]\n",
    "num\n"
   ]
  },
  {
   "cell_type": "code",
   "execution_count": 5,
   "id": "ccd5c0d4-c6b3-4423-89ee-751f501a7e64",
   "metadata": {},
   "outputs": [
    {
     "data": {
      "text/plain": [
       "['a', 'b', 'c']"
      ]
     },
     "execution_count": 5,
     "metadata": {},
     "output_type": "execute_result"
    }
   ],
   "source": [
    "n=['a','b','c']\n",
    "n"
   ]
  },
  {
   "cell_type": "code",
   "execution_count": 7,
   "id": "5a8a295d-2852-4430-9667-41a6d2c8260f",
   "metadata": {},
   "outputs": [
    {
     "data": {
      "text/plain": [
       "['apple', 'pine apple', 'banana']"
      ]
     },
     "execution_count": 7,
     "metadata": {},
     "output_type": "execute_result"
    }
   ],
   "source": [
    "d=['apple','pine apple','banana']\n",
    "d"
   ]
  },
  {
   "cell_type": "code",
   "execution_count": 11,
   "id": "b1ce6048-ce68-4afe-81ef-6037dd51b679",
   "metadata": {},
   "outputs": [
    {
     "data": {
      "text/plain": [
       "[1, 2, 1.1, 1.2, 1.3, 'a', 'b', 'apple', 'pine apple']"
      ]
     },
     "execution_count": 11,
     "metadata": {},
     "output_type": "execute_result"
    }
   ],
   "source": [
    "n=[1,2,1.1,1.2,1.3,'a','b','apple','pine apple']\n",
    "n"
   ]
  },
  {
   "cell_type": "code",
   "execution_count": 15,
   "id": "b1f09388-5270-407d-93ce-5da1e31bda5e",
   "metadata": {},
   "outputs": [
    {
     "data": {
      "text/plain": [
       "[[1, 2, 3], [1.1, 1.2], ['a', 'b'], ['apple', 'pine apple']]"
      ]
     },
     "execution_count": 15,
     "metadata": {},
     "output_type": "execute_result"
    }
   ],
   "source": [
    "x=[[1,2,3],[1.1,1.2],['a','b'],['apple','pine apple']]\n",
    "x"
   ]
  },
  {
   "cell_type": "code",
   "execution_count": 11,
   "id": "b87fa7c6-eaa3-4540-8972-5ed2dc25f114",
   "metadata": {},
   "outputs": [
    {
     "name": "stdout",
     "output_type": "stream",
     "text": [
      "apple\n"
     ]
    }
   ],
   "source": [
    "d=['apple','pine apple','banana']\n",
    "for i in d:\n",
    "    if i=='pine apple':\n",
    "        break;\n",
    "    print(i)"
   ]
  },
  {
   "cell_type": "code",
   "execution_count": 13,
   "id": "93d94c5c-3ebc-414c-8737-c5566c9f749c",
   "metadata": {},
   "outputs": [
    {
     "name": "stdout",
     "output_type": "stream",
     "text": [
      "apple\n",
      "banana\n"
     ]
    }
   ],
   "source": [
    "d=['apple','pine apple','banana']\n",
    "for i in d:\n",
    "    if i=='pine apple':\n",
    "        continue;\n",
    "    print(i)"
   ]
  },
  {
   "cell_type": "code",
   "execution_count": 15,
   "id": "f9664528-c931-4ae8-a1f8-45789fee5359",
   "metadata": {},
   "outputs": [
    {
     "name": "stdout",
     "output_type": "stream",
     "text": [
      "10\n",
      "20\n",
      "30\n",
      "40\n",
      "50\n"
     ]
    }
   ],
   "source": [
    "x=[2,4,6,8,10]\n",
    "for i in x:\n",
    "    i=i*5\n",
    "    print(i)"
   ]
  },
  {
   "cell_type": "code",
   "execution_count": 29,
   "id": "049eadb2-5ec7-44fc-b5fb-e17b1c5b2790",
   "metadata": {},
   "outputs": [
    {
     "name": "stdout",
     "output_type": "stream",
     "text": [
      "[2, 4, 6, 8, 10]\n",
      "[2, 4, 6, 8, 10, 12]\n"
     ]
    }
   ],
   "source": [
    "x=[2,4,6,8,10]\n",
    "print(x)\n",
    "x.append(12)\n",
    "print(x)"
   ]
  },
  {
   "cell_type": "code",
   "execution_count": 31,
   "id": "73f87a83-311b-49ab-8012-5acf1832c244",
   "metadata": {},
   "outputs": [
    {
     "name": "stdout",
     "output_type": "stream",
     "text": [
      "[2, 4, 6, 8, 10, 'welcome']\n",
      "['welcome', 2, 4, 6, 8, 10]\n"
     ]
    }
   ],
   "source": [
    "num=[2,4,6,8,10]\n",
    "stg=['welcome']\n",
    "x=num+stg\n",
    "y=stg+num\n",
    "print(x)\n",
    "print(y)"
   ]
  },
  {
   "cell_type": "code",
   "execution_count": 35,
   "id": "545a491e-f7d5-4ded-97ab-dc3335a05fb4",
   "metadata": {},
   "outputs": [
    {
     "name": "stdout",
     "output_type": "stream",
     "text": [
      "[2, 4, 6, 8, 10, 'welcome']\n"
     ]
    }
   ],
   "source": [
    "num=[2,4,6,8,10]\n",
    "stg=['welcome']\n",
    "num.extend(stg)\n",
    "print(num)"
   ]
  },
  {
   "cell_type": "code",
   "execution_count": 37,
   "id": "0a1d320d-1516-4525-a1e9-f18b2667fdd2",
   "metadata": {},
   "outputs": [
    {
     "name": "stdout",
     "output_type": "stream",
     "text": [
      "['welcome', 2, 4, 6, 8, 10]\n"
     ]
    }
   ],
   "source": [
    "num=[2,4,6,8,10]\n",
    "stg=['welcome']\n",
    "stg.extend(num)\n",
    "print(stg)"
   ]
  },
  {
   "cell_type": "code",
   "execution_count": 41,
   "id": "e39e9704-e3f0-40c1-8a06-84102616ec25",
   "metadata": {},
   "outputs": [
    {
     "name": "stdout",
     "output_type": "stream",
     "text": [
      "['Pawan', 'welcome', 2, 4, 6, 8, 10]\n"
     ]
    }
   ],
   "source": [
    "num=[2,4,6,8,10]\n",
    "stg=['welcome']\n",
    "stg.extend(num)\n",
    "stg.insert(0,'Pawan')\n",
    "print(stg)"
   ]
  },
  {
   "cell_type": "code",
   "execution_count": 47,
   "id": "2c8eeb41-8e17-4a8b-b501-9c31e6a0d17d",
   "metadata": {},
   "outputs": [
    {
     "name": "stdout",
     "output_type": "stream",
     "text": [
      "['Pawan', 'welcome', 2, 4, 6, 8, 10]\n"
     ]
    }
   ],
   "source": [
    "num=[2,4,6,8,10]\n",
    "stg=['welcome']\n",
    "stg.extend(num)\n",
    "stg.insert(0,'Pawan')\n",
    "num.remove(4)\n",
    "print(stg)"
   ]
  },
  {
   "cell_type": "code",
   "execution_count": 51,
   "id": "9ec0433a-255e-450e-bd4f-2061ad821a34",
   "metadata": {},
   "outputs": [
    {
     "name": "stdout",
     "output_type": "stream",
     "text": [
      "['z', 'y', 'f', 'b', 'a']\n"
     ]
    }
   ],
   "source": [
    "x=['z','y','f','a','b']\n",
    "x.sort(reverse=True)\n",
    "print(x)"
   ]
  },
  {
   "cell_type": "code",
   "execution_count": 69,
   "id": "dfe6d8cf-291b-4654-ab5d-d2558d5f461c",
   "metadata": {},
   "outputs": [
    {
     "name": "stdout",
     "output_type": "stream",
     "text": [
      "7\n",
      "2\n",
      "22\n",
      "63\n",
      "9.0\n"
     ]
    }
   ],
   "source": [
    "num=[2,4,6,8,10,11,22]\n",
    "print(len(num))\n",
    "print(min(num))\n",
    "print(max(num))\n",
    "print(sum(num))\n",
    "a=sum(num)/len(num)\n",
    "print(a)"
   ]
  },
  {
   "cell_type": "code",
   "execution_count": 83,
   "id": "08f0a047-c67f-478d-a0a8-34ed23aab799",
   "metadata": {},
   "outputs": [
    {
     "name": "stdout",
     "output_type": "stream",
     "text": [
      "[1, 2, 3, 4, 5, 6, 7, 8, 9, 10]\n",
      "[1, 3, 5, 7, 9]\n",
      "[2, 4, 6, 8, 10]\n"
     ]
    }
   ],
   "source": [
    "list1=list(range(1,11))\n",
    "print(list1)\n",
    "odd = list1[::2]\n",
    "print(odd)\n",
    "even=list1[1::2]\n",
    "print(even)"
   ]
  },
  {
   "cell_type": "code",
   "execution_count": null,
   "id": "6591df8a-df44-401c-9e57-7f0b728443b7",
   "metadata": {},
   "outputs": [],
   "source": [
    "# type conversion"
   ]
  },
  {
   "cell_type": "code",
   "execution_count": 89,
   "id": "5be1f160-658a-4063-9d6e-2855ced315f1",
   "metadata": {},
   "outputs": [
    {
     "name": "stdout",
     "output_type": "stream",
     "text": [
      "10 <class 'int'>\n"
     ]
    }
   ],
   "source": [
    "#float to integer\n",
    "a=10.45\n",
    "b=int(a)\n",
    "print(b,type(b))"
   ]
  },
  {
   "cell_type": "code",
   "execution_count": 95,
   "id": "5b8b3b49-5e9d-44f3-85bd-64d00c95eab0",
   "metadata": {},
   "outputs": [
    {
     "name": "stdout",
     "output_type": "stream",
     "text": [
      "(1.87+3j)\n",
      "1.87\n",
      "3\n"
     ]
    }
   ],
   "source": [
    "x=1.87+3j\n",
    "y=x.real\n",
    "z=int(x.imag)\n",
    "print(x)\n",
    "print(y)\n",
    "print(z)\n"
   ]
  },
  {
   "cell_type": "code",
   "execution_count": 99,
   "id": "e38bf343-3731-4f33-a05a-951baeac092d",
   "metadata": {},
   "outputs": [
    {
     "name": "stdout",
     "output_type": "stream",
     "text": [
      "1 <class 'int'>\n"
     ]
    }
   ],
   "source": [
    "x=True\n",
    "y=int(x)\n",
    "print(y,type(y))"
   ]
  },
  {
   "cell_type": "code",
   "execution_count": null,
   "id": "61fe21aa-745f-4574-8ca2-f960adcd9f6a",
   "metadata": {},
   "outputs": [],
   "source": []
  }
 ],
 "metadata": {
  "kernelspec": {
   "display_name": "Python 3 (ipykernel)",
   "language": "python",
   "name": "python3"
  },
  "language_info": {
   "codemirror_mode": {
    "name": "ipython",
    "version": 3
   },
   "file_extension": ".py",
   "mimetype": "text/x-python",
   "name": "python",
   "nbconvert_exporter": "python",
   "pygments_lexer": "ipython3",
   "version": "3.12.4"
  }
 },
 "nbformat": 4,
 "nbformat_minor": 5
}
