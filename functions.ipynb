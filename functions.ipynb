{
 "cells": [
  {
   "cell_type": "code",
   "execution_count": 1,
   "id": "47eae347-0ff5-4e9a-b551-e9dfa426f69c",
   "metadata": {},
   "outputs": [
    {
     "name": "stdout",
     "output_type": "stream",
     "text": [
      "Welcome to python\n"
     ]
    }
   ],
   "source": [
    "def fun():\n",
    "    print(\"Welcome to python\")\n",
    "fun()"
   ]
  },
  {
   "cell_type": "code",
   "execution_count": 13,
   "id": "d39e8135-8c20-4fde-b06c-f1e26f3e5c34",
   "metadata": {},
   "outputs": [
    {
     "name": "stdout",
     "output_type": "stream",
     "text": [
      "17\n",
      "1\n",
      "72\n",
      "1.125\n"
     ]
    }
   ],
   "source": [
    "def arith(a,b):\n",
    "    print(a+b)\n",
    "    print(a-b)\n",
    "    print(a*b)\n",
    "    print(a/b)\n",
    "arith(9,8)\n"
   ]
  },
  {
   "cell_type": "code",
   "execution_count": 19,
   "id": "75a25ae6-d9c2-4c52-bb5a-af759a6430ff",
   "metadata": {},
   "outputs": [
    {
     "name": "stdin",
     "output_type": "stream",
     "text": [
      "Enter the x :  4\n",
      "Enter the y :  5\n"
     ]
    },
    {
     "data": {
      "text/plain": [
       "9"
      ]
     },
     "execution_count": 19,
     "metadata": {},
     "output_type": "execute_result"
    }
   ],
   "source": [
    "def sum(x,y):\n",
    "    s=x+y\n",
    "    return s\n",
    "x=int(input(\"Enter the x : \"))\n",
    "y=int(input(\"Enter the y : \"))\n",
    "sum(x,y)\n",
    "\n"
   ]
  },
  {
   "cell_type": "code",
   "execution_count": 21,
   "id": "1696dddb-f6d8-4b4b-a667-7745c93b31ec",
   "metadata": {},
   "outputs": [
    {
     "name": "stdin",
     "output_type": "stream",
     "text": [
      "Enter the x:  4\n",
      "Enter the y:  6\n"
     ]
    },
    {
     "name": "stdout",
     "output_type": "stream",
     "text": [
      "10\n"
     ]
    }
   ],
   "source": [
    "#sum using lamba functions \n",
    "sum = lambda x, y: x + y\n",
    "x = int(input(\"Enter the x: \"))\n",
    "y = int(input(\"Enter the y: \"))\n",
    "print(sum(x, y))"
   ]
  },
  {
   "cell_type": "code",
   "execution_count": 25,
   "id": "2807baca-d4f1-41b1-a758-3cf7137358d3",
   "metadata": {},
   "outputs": [
    {
     "name": "stdout",
     "output_type": "stream",
     "text": [
      "Sum using local variable: 15\n"
     ]
    }
   ],
   "source": [
    " # Local variable\n",
    "def sum_local(n):\n",
    "    local_sum = 0 \n",
    "    i = 0\n",
    "    while i <= n:\n",
    "        local_sum += i\n",
    "        i += 1\n",
    "    return local_sum\n",
    "result = sum_local(5)\n",
    "print(\"Sum:\", result)\n"
   ]
  },
  {
   "cell_type": "code",
   "execution_count": 27,
   "id": "f5b8d291-99bc-4967-9708-344371e0f085",
   "metadata": {},
   "outputs": [
    {
     "name": "stdout",
     "output_type": "stream",
     "text": [
      "Sum using global variable: 15\n"
     ]
    }
   ],
   "source": [
    "# global variable\n",
    "global_sum = 0\n",
    "def sum_global(n):\n",
    "    global global_sum  \n",
    "    i = 0\n",
    "    while i <= n:\n",
    "        global_sum += i\n",
    "        i += 1\n",
    "sum_global(5)\n",
    "print(\"Sum using global variable:\", global_sum)\n"
   ]
  },
  {
   "cell_type": "code",
   "execution_count": 29,
   "id": "8a29053a-da71-4d37-bdee-ddfed742a806",
   "metadata": {},
   "outputs": [
    {
     "name": "stdout",
     "output_type": "stream",
     "text": [
      "Inside the function local total:  30\n",
      "Outside the function global total:  0\n"
     ]
    }
   ],
   "source": [
    "total=0;\n",
    "def sum(arg1,arg2):\n",
    "  total=arg1+arg2;\n",
    "  print(\"Inside the function local total: \",total)\n",
    "  return total;\n",
    "sum(10,20);\n",
    "print(\"Outside the function global total: \",total)"
   ]
  },
  {
   "cell_type": "code",
   "execution_count": 33,
   "id": "4cf5ef32-7b1a-4659-aca3-08b9af966688",
   "metadata": {},
   "outputs": [
    {
     "name": "stdout",
     "output_type": "stream",
     "text": [
      "c is greater\n"
     ]
    }
   ],
   "source": [
    "def max(a,b,c):\n",
    "    if a>b and a>c:\n",
    "        print(\"a is the greater\")\n",
    "    elif b>c:\n",
    "        print(\"b is greater\")\n",
    "    else:\n",
    "        print(\"c is greater\")\n",
    "max(10,20,39)"
   ]
  },
  {
   "cell_type": "code",
   "execution_count": null,
   "id": "eb3bbabb-7719-46af-a5d4-58101b76d002",
   "metadata": {},
   "outputs": [],
   "source": []
  }
 ],
 "metadata": {
  "kernelspec": {
   "display_name": "Python 3 (ipykernel)",
   "language": "python",
   "name": "python3"
  },
  "language_info": {
   "codemirror_mode": {
    "name": "ipython",
    "version": 3
   },
   "file_extension": ".py",
   "mimetype": "text/x-python",
   "name": "python",
   "nbconvert_exporter": "python",
   "pygments_lexer": "ipython3",
   "version": "3.12.4"
  }
 },
 "nbformat": 4,
 "nbformat_minor": 5
}
