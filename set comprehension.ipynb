{
 "cells": [
  {
   "cell_type": "code",
   "execution_count": 1,
   "id": "38e92a65-f3b1-412d-8f90-2e36a533d2d5",
   "metadata": {},
   "outputs": [
    {
     "name": "stdout",
     "output_type": "stream",
     "text": [
      "{0, 1, 4, 9, 16}\n"
     ]
    }
   ],
   "source": [
    "#printing squareing the values in a given range\n",
    "sq={x**2 for x in range(5)}\n",
    "print(sq)"
   ]
  },
  {
   "cell_type": "code",
   "execution_count": 3,
   "id": "400326ca-6836-4686-9a93-6739a577a5dd",
   "metadata": {},
   "outputs": [
    {
     "name": "stdout",
     "output_type": "stream",
     "text": [
      "{1, 4, 9, 16, 25}\n"
     ]
    }
   ],
   "source": [
    "#printing squareing the values  in a list\n",
    "num=[1,2,3,4,5]\n",
    "sq_num={x**2 for x in num}\n",
    "print(sq_num)"
   ]
  },
  {
   "cell_type": "code",
   "execution_count": 5,
   "id": "95d92ee4-4bf3-4057-811a-e4bc863b21a6",
   "metadata": {},
   "outputs": [
    {
     "name": "stdout",
     "output_type": "stream",
     "text": [
      "{2, 4}\n"
     ]
    }
   ],
   "source": [
    "#printing even numbers in a list\n",
    "numbers=[1,2,3,4,5]\n",
    "even_numbers={x for x in numbers if x%2==0}\n",
    "print(even_numbers)"
   ]
  },
  {
   "cell_type": "code",
   "execution_count": 7,
   "id": "d3b911e2-466f-42ec-ba00-3f5792b414ed",
   "metadata": {},
   "outputs": [
    {
     "name": "stdout",
     "output_type": "stream",
     "text": [
      "{'apple', 'cherry', 'banana'}\n"
     ]
    }
   ],
   "source": [
    "# removing the fruit name without vowels\n",
    "words=['apple','banana','cherry','lyn']\n",
    "vowels={'a','e','i','o','u'}\n",
    "vowel_words={word for word in words if any(letter in vowels for letter in word)}\n",
    "print(vowel_words)"
   ]
  },
  {
   "cell_type": "code",
   "execution_count": 9,
   "id": "0a54b12d-5c53-4694-89b4-fc4a01f1cb3c",
   "metadata": {},
   "outputs": [
    {
     "name": "stdout",
     "output_type": "stream",
     "text": [
      "{1, 4, 36, 9, 16, 25}\n"
     ]
    }
   ],
   "source": [
    "# removing duplicates\n",
    "duplicates=[1,2,3,3,4,5,1,6]\n",
    "unique_squares={x ** 2 for x in duplicates}\n",
    "print(unique_squares)"
   ]
  },
  {
   "cell_type": "code",
   "execution_count": 21,
   "id": "adb195a6-1ad1-4022-b145-42095571bb75",
   "metadata": {},
   "outputs": [
    {
     "name": "stdout",
     "output_type": "stream",
     "text": [
      "['D', 'E', 'H', 'L', 'O', 'R', 'W']\n"
     ]
    }
   ],
   "source": [
    "text=\"hello world\"\n",
    "uppercase_letters={char.upper() for char in text if char.isalpha()}\n",
    "print(sorted(uppercase_letters))"
   ]
  },
  {
   "cell_type": "code",
   "execution_count": null,
   "id": "e45b8df4-12eb-4982-85a6-46af36fb88e9",
   "metadata": {},
   "outputs": [],
   "source": []
  }
 ],
 "metadata": {
  "kernelspec": {
   "display_name": "Python 3 (ipykernel)",
   "language": "python",
   "name": "python3"
  },
  "language_info": {
   "codemirror_mode": {
    "name": "ipython",
    "version": 3
   },
   "file_extension": ".py",
   "mimetype": "text/x-python",
   "name": "python",
   "nbconvert_exporter": "python",
   "pygments_lexer": "ipython3",
   "version": "3.12.4"
  }
 },
 "nbformat": 4,
 "nbformat_minor": 5
}
