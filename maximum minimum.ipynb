{
 "cells": [
  {
   "cell_type": "code",
   "execution_count": 5,
   "id": "b02b31f8-1944-4aec-a636-f1b43c2a8265",
   "metadata": {},
   "outputs": [
    {
     "name": "stdin",
     "output_type": "stream",
     "text": [
      "Enter numbers separated by spaces:  10 20 30\n"
     ]
    },
    {
     "name": "stdout",
     "output_type": "stream",
     "text": [
      "The maximum number is: 30\n"
     ]
    }
   ],
   "source": [
    "numbers = list(map(int, input(\"Enter numbers separated by spaces: \").split()))\n",
    "max_number = max(numbers)\n",
    "print(\"The maximum number is:\",max_number)"
   ]
  },
  {
   "cell_type": "code",
   "execution_count": 11,
   "id": "fec46424-8f60-435a-9f26-094cd36fc986",
   "metadata": {},
   "outputs": [
    {
     "name": "stdin",
     "output_type": "stream",
     "text": [
      "Enter  10 02 3023\n"
     ]
    },
    {
     "name": "stdout",
     "output_type": "stream",
     "text": [
      "The maximum number is: 3035\n"
     ]
    }
   ],
   "source": [
    "numbers = list(map(int, input(\"Enter \").split()))\n",
    "max_number =sum(numbers)\n",
    "print(\"The sum of number is:\",max_number)"
   ]
  },
  {
   "cell_type": "markdown",
   "id": "70be4164-f867-4e3a-aea2-e8c9646a8f19",
   "metadata": {},
   "source": [
    "num_elements = int(input(\"Enter the number of elements in the list: \"))\n",
    "elements = list(map(int, input(\"Enter the elements separated by space: \").split()))\n",
    "total_sum = sum(elements)\n",
    "print(\"Sum of the numbers in the list:\", total_sum)"
   ]
  },
  {
   "cell_type": "code",
   "execution_count": 14,
   "id": "a0ec9dae-4dc3-4bc7-8e1e-0ea9e6985a43",
   "metadata": {},
   "outputs": [
    {
     "name": "stdin",
     "output_type": "stream",
     "text": [
      "Enter the number of elements in the list:  4\n",
      "Enter the elements separated by space:  10 2\n"
     ]
    },
    {
     "name": "stdout",
     "output_type": "stream",
     "text": [
      "Sum of the numbers in the list: 12\n"
     ]
    }
   ],
   "source": [
    "num_elements = int(input(\"Enter the number of elements in the list: \"))\n",
    "elements = list(map(int, input(\"Enter the elements separated by space: \").split()))\n",
    "total_sum = sum(elements)\n",
    "print(\"Sum of the numbers in the list:\", total_sum)\n"
   ]
  },
  {
   "cell_type": "code",
   "execution_count": null,
   "id": "17b06af9-5cc6-4fb4-8cd9-9f56ccbbc734",
   "metadata": {},
   "outputs": [],
   "source": []
  }
 ],
 "metadata": {
  "kernelspec": {
   "display_name": "Python 3 (ipykernel)",
   "language": "python",
   "name": "python3"
  },
  "language_info": {
   "codemirror_mode": {
    "name": "ipython",
    "version": 3
   },
   "file_extension": ".py",
   "mimetype": "text/x-python",
   "name": "python",
   "nbconvert_exporter": "python",
   "pygments_lexer": "ipython3",
   "version": "3.12.4"
  }
 },
 "nbformat": 4,
 "nbformat_minor": 5
}
