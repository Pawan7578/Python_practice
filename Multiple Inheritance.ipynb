{
 "cells": [
  {
   "cell_type": "code",
   "execution_count": null,
   "id": "29615e5c-698a-4ab8-8f28-1c70d319d5a9",
   "metadata": {},
   "outputs": [],
   "source": [
    "class normal_room:\n",
    "    def calculate(self,no_rooms,days):\n",
    "        self.no_rooms=no_rooms\n",
    "        self.days=days\n",
    "        if days == 1:\n",
    "            print(\"room rent=300\")\n",
    "        elif 1<days>=5:\n",
    "            print(\"room rent=250\")\n",
    "        elif days>5:\n",
    "            print(\"room rent=200\")\n",
    "        else:\n",
    "            print(\"invalid input\")\n",
    "class ac_room:\n",
    "    def calculate(self,no_rooms,days):\n",
    "        self.no_rooms=no_rooms\n",
    "        self.days=days\n",
    "        if days == 1:\n",
    "            print(\"room rent=450\")\n",
    "        elif 1<days>=5:\n",
    "            print(\"room rent=300\")\n",
    "        elif days>5:\n",
    "            print(\"room rent=250\")\n",
    "        else:\n",
    "            print(\"invalid input\")\n",
    "\n",
    "class suit_room:\n",
    "    def calculate(self,no_rooms,days):\n",
    "        self.no_rooms=no_rooms\n",
    "        self.days=days\n",
    "        if days == 1:\n",
    "            print(\"room rent=550\")\n",
    "        elif 1<days>=5:\n",
    "            print(\"room rent=500\")\n",
    "        elif days>5:\n",
    "            print(\"room rent=450\")\n",
    "        else:\n",
    "            print(\"invalid input\")\n",
    "\n",
    "class hotel(normal_room,ac_room,\n",
    "\n",
    "\n",
    "\n",
    "\n"
   ]
  }
 ],
 "metadata": {
  "kernelspec": {
   "display_name": "Python 3 (ipykernel)",
   "language": "python",
   "name": "python3"
  },
  "language_info": {
   "codemirror_mode": {
    "name": "ipython",
    "version": 3
   },
   "file_extension": ".py",
   "mimetype": "text/x-python",
   "name": "python",
   "nbconvert_exporter": "python",
   "pygments_lexer": "ipython3",
   "version": "3.12.4"
  }
 },
 "nbformat": 4,
 "nbformat_minor": 5
}
