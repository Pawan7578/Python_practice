{
 "cells": [
  {
   "cell_type": "code",
   "execution_count": 3,
   "id": "c4311003-7522-46fe-b6dc-3294e632067c",
   "metadata": {},
   "outputs": [],
   "source": [
    "a=[10,20,30,40]"
   ]
  },
  {
   "cell_type": "code",
   "execution_count": 3,
   "id": "7d844f9d-7087-4183-a2d3-77ef0a69905f",
   "metadata": {},
   "outputs": [
    {
     "name": "stdout",
     "output_type": "stream",
     "text": [
      "10 20 30 40 "
     ]
    }
   ],
   "source": [
    "for i in a:\n",
    "    print(i,end=\" \")"
   ]
  },
  {
   "cell_type": "code",
   "execution_count": null,
   "id": "5f0c5e2d-9eb3-4080-bd75-d47bf2923d6e",
   "metadata": {},
   "outputs": [],
   "source": [
    "2"
   ]
  },
  {
   "cell_type": "code",
   "execution_count": 5,
   "id": "d8ec4638-f005-44a6-bb8e-80d82fa3740b",
   "metadata": {},
   "outputs": [
    {
     "name": "stdout",
     "output_type": "stream",
     "text": [
      "value found\n"
     ]
    }
   ],
   "source": [
    "for i in a:\n",
    "    if i==30:\n",
    "        print(\"value found\")\n",
    "        break\n",
    "else:\n",
    "    print(\"value not found\")"
   ]
  },
  {
   "cell_type": "code",
   "execution_count": 7,
   "id": "8dc5d380-67e1-49b6-988d-40ac95e2df26",
   "metadata": {},
   "outputs": [
    {
     "data": {
      "text/plain": [
       "True"
      ]
     },
     "execution_count": 7,
     "metadata": {},
     "output_type": "execute_result"
    }
   ],
   "source": [
    "30 in a"
   ]
  },
  {
   "cell_type": "code",
   "execution_count": 11,
   "id": "251564f9-3d13-4853-9d51-5f777909cedf",
   "metadata": {},
   "outputs": [
    {
     "ename": "TypeError",
     "evalue": "'int' object is not iterable",
     "output_type": "error",
     "traceback": [
      "\u001b[1;31m---------------------------------------------------------------------------\u001b[0m",
      "\u001b[1;31mTypeError\u001b[0m                                 Traceback (most recent call last)",
      "Cell \u001b[1;32mIn[11], line 1\u001b[0m\n\u001b[1;32m----> 1\u001b[0m \u001b[38;5;28;01mfor\u001b[39;00m i \u001b[38;5;129;01min\u001b[39;00m(\u001b[38;5;28mlen\u001b[39m(a)):\n\u001b[0;32m      2\u001b[0m     \u001b[38;5;28;01mif\u001b[39;00m a[i]\u001b[38;5;241m==\u001b[39m\u001b[38;5;241m30\u001b[39m:\n\u001b[0;32m      3\u001b[0m         \u001b[38;5;28mprint\u001b[39m(i)\n",
      "\u001b[1;31mTypeError\u001b[0m: 'int' object is not iterable"
     ]
    }
   ],
   "source": [
    "for i in(len(a)):\n",
    "    if a[i]==30:\n",
    "        print(i)\n",
    "        break"
   ]
  },
  {
   "cell_type": "code",
   "execution_count": 13,
   "id": "eb9bc385-1ac8-4070-8b4d-211b0bf614c0",
   "metadata": {},
   "outputs": [
    {
     "name": "stdout",
     "output_type": "stream",
     "text": [
      "[1, 'ABC', 84.9, 'a']\n"
     ]
    }
   ],
   "source": [
    "info=[1,'ABC',84.9,'a']\n",
    "print(info)"
   ]
  },
  {
   "cell_type": "code",
   "execution_count": 15,
   "id": "f4f988ad-b894-4213-a498-39839157fc41",
   "metadata": {},
   "outputs": [
    {
     "data": {
      "text/plain": [
       "'ABC'"
      ]
     },
     "execution_count": 15,
     "metadata": {},
     "output_type": "execute_result"
    }
   ],
   "source": [
    "info[1]"
   ]
  },
  {
   "cell_type": "code",
   "execution_count": 23,
   "id": "2bcb58e0-fca0-4ec0-bf2b-e65aa34e83eb",
   "metadata": {},
   "outputs": [
    {
     "name": "stdout",
     "output_type": "stream",
     "text": [
      "[1, 'ABC', 84.9, 'a', 'pawan', 'pawan', 'pawan']\n"
     ]
    }
   ],
   "source": [
    "info.append('pawan')\n",
    "print(info)"
   ]
  },
  {
   "cell_type": "code",
   "execution_count": 25,
   "id": "2c711eb6-c2ff-448c-9985-e3f162908f63",
   "metadata": {},
   "outputs": [
    {
     "data": {
      "text/plain": [
       "[1, 'ABC', 84.9, 'a', 'pawan', 'pawan', 'pawan']"
      ]
     },
     "execution_count": 25,
     "metadata": {},
     "output_type": "execute_result"
    }
   ],
   "source": [
    "info"
   ]
  },
  {
   "cell_type": "code",
   "execution_count": null,
   "id": "815762ab-299a-45fb-bb9d-9181c2a9e68e",
   "metadata": {},
   "outputs": [],
   "source": []
  }
 ],
 "metadata": {
  "kernelspec": {
   "display_name": "Python 3 (ipykernel)",
   "language": "python",
   "name": "python3"
  },
  "language_info": {
   "codemirror_mode": {
    "name": "ipython",
    "version": 3
   },
   "file_extension": ".py",
   "mimetype": "text/x-python",
   "name": "python",
   "nbconvert_exporter": "python",
   "pygments_lexer": "ipython3",
   "version": "3.12.4"
  }
 },
 "nbformat": 4,
 "nbformat_minor": 5
}
