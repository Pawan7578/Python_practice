{
 "cells": [
  {
   "cell_type": "code",
   "execution_count": 1,
   "id": "2677b242-91b3-4611-9ff2-96264e0aea68",
   "metadata": {},
   "outputs": [
    {
     "name": "stdout",
     "output_type": "stream",
     "text": [
      "{5.6, 'python', 6}\n"
     ]
    },
    {
     "data": {
      "text/plain": [
       "set"
      ]
     },
     "execution_count": 1,
     "metadata": {},
     "output_type": "execute_result"
    }
   ],
   "source": [
    "values={6,'python',5.6}\n",
    "print(values)\n",
    "type(values)"
   ]
  },
  {
   "cell_type": "code",
   "execution_count": 3,
   "id": "ca6767c7-b830-46b5-a32f-c8546ed6f912",
   "metadata": {},
   "outputs": [
    {
     "data": {
      "text/plain": [
       "dict"
      ]
     },
     "execution_count": 3,
     "metadata": {},
     "output_type": "execute_result"
    }
   ],
   "source": [
    "value={}\n",
    "type(value)"
   ]
  },
  {
   "cell_type": "code",
   "execution_count": 5,
   "id": "dec78305-9761-4d13-a8af-e94872dbb084",
   "metadata": {},
   "outputs": [
    {
     "data": {
      "text/plain": [
       "set"
      ]
     },
     "execution_count": 5,
     "metadata": {},
     "output_type": "execute_result"
    }
   ],
   "source": [
    "values=set()\n",
    "type(values)"
   ]
  },
  {
   "cell_type": "code",
   "execution_count": 7,
   "id": "ff6e93a1-54a0-4c5d-b157-7cf9d8a6db80",
   "metadata": {},
   "outputs": [
    {
     "data": {
      "text/plain": [
       "{1, 2, 3, 4, 5, 6, 8, 9, 12, 32}"
      ]
     },
     "execution_count": 7,
     "metadata": {},
     "output_type": "execute_result"
    }
   ],
   "source": [
    "values={1,3,2,4,5,6,8,9,12,32,12}\n",
    "values\n"
   ]
  },
  {
   "cell_type": "code",
   "execution_count": 9,
   "id": "1e1edbd2-08dc-4072-a66f-8e128d1de725",
   "metadata": {},
   "outputs": [
    {
     "name": "stdout",
     "output_type": "stream",
     "text": [
      "set()\n"
     ]
    }
   ],
   "source": [
    "set1=set()\n",
    "print(set1)"
   ]
  },
  {
   "cell_type": "code",
   "execution_count": 11,
   "id": "cff46e96-e513-4c1f-9ee3-f9c1d161f15c",
   "metadata": {},
   "outputs": [
    {
     "data": {
      "text/plain": [
       "{2, 5, 9.4, 'PYTHON', 'a'}"
      ]
     },
     "execution_count": 11,
     "metadata": {},
     "output_type": "execute_result"
    }
   ],
   "source": [
    "value_set={2,'PYTHON','a',5,9.4}\n",
    "value_set"
   ]
  },
  {
   "cell_type": "code",
   "execution_count": 5,
   "id": "ef7fd68b-ce91-45b5-8450-0387dabc34e8",
   "metadata": {},
   "outputs": [
    {
     "name": "stdin",
     "output_type": "stream",
     "text": [
      " 5\n",
      " 7\n",
      " 5\n",
      " 98\n",
      " 798\n",
      " 54\n"
     ]
    },
    {
     "data": {
      "text/plain": [
       "{5, 7, 54, 98, 798}"
      ]
     },
     "execution_count": 5,
     "metadata": {},
     "output_type": "execute_result"
    }
   ],
   "source": [
    "#adding elements in a set \n",
    "value_set=set()\n",
    "n=int(input())\n",
    "for i in range(n):\n",
    "    value_set.add(int(input()))\n",
    "value_set"
   ]
  },
  {
   "cell_type": "code",
   "execution_count": 9,
   "id": "8e9925e0-3b17-4a3f-b070-0877d08c5667",
   "metadata": {},
   "outputs": [
    {
     "name": "stdin",
     "output_type": "stream",
     "text": [
      " 3\n",
      " 1\n",
      " 2\n",
      " 3\n"
     ]
    },
    {
     "name": "stdout",
     "output_type": "stream",
     "text": [
      "{1, 2, 3}\n"
     ]
    },
    {
     "name": "stdin",
     "output_type": "stream",
     "text": [
      " 2\n"
     ]
    },
    {
     "data": {
      "text/plain": [
       "True"
      ]
     },
     "execution_count": 9,
     "metadata": {},
     "output_type": "execute_result"
    }
   ],
   "source": [
    "# write a python code to check got from the user is present in the value_set\n",
    "value_set=set()\n",
    "n=int(input())\n",
    "for i in range(n):\n",
    "    value_set.add(int(input()))\n",
    "print(value_set)\n",
    "ele=int(input())\n",
    "ele in value_set\n"
   ]
  },
  {
   "cell_type": "code",
   "execution_count": 27,
   "id": "b358c7e2-6558-4323-b5c2-7bd253607090",
   "metadata": {},
   "outputs": [
    {
     "name": "stdout",
     "output_type": "stream",
     "text": [
      "{'May', 'Apr', 'Feb', 'Mar', 'Jun', 'Jan'}\n",
      "{'Dec', 'Sept', 'Nov', 'Aug', 'Jul', 'Oct'}\n",
      "Method 1 :  {'Dec', 'Sept', 'Jul', 'Mar', 'Jan', 'Oct', 'Nov', 'Apr', 'Aug', 'Feb', 'Jun', 'May'}\n",
      "Method 2 :  {'Dec', 'Sept', 'Jul', 'Mar', 'Jan', 'Oct', 'Nov', 'Apr', 'Aug', 'Feb', 'Jun', 'May'}\n"
     ]
    }
   ],
   "source": [
    "# union set\n",
    "month1={\"Jan\",\"Feb\",\"Mar\",\"Apr\",\"May\",\"Jun\"}\n",
    "month2={\"Jul\",\"Aug\",\"Sept\",\"Oct\",\"Nov\",\"Dec\"}\n",
    "print(month1)\n",
    "print(month2)\n",
    "# method 1\n",
    "month=month1.union(month2)\n",
    "print(\"Method 1 : \",month)\n",
    "#method 2\n",
    "m=month1|month2\n",
    "print(\"Method 2 : \",m)"
   ]
  },
  {
   "cell_type": "code",
   "execution_count": 21,
   "id": "0fbc8354-286a-48f7-b234-cf864d82b820",
   "metadata": {},
   "outputs": [
    {
     "name": "stdout",
     "output_type": "stream",
     "text": [
      "method 1 {'Nov', 'Aug'}\n",
      "method 2 {'Nov', 'Aug'}\n"
     ]
    }
   ],
   "source": [
    "month1={\"Jan\",\"Feb\",\"Mar\",\"Apr\",\"May\",\"Jun\",\"Aug\",\"Nov\"}\n",
    "month2={\"Jul\",\"Aug\",\"Sept\",\"Oct\",\"Nov\",\"Dec\"}\n",
    "#method 1\n",
    "common=month1.intersection(month2)\n",
    "print(\"method 1\",common)\n",
    "#method 2\n",
    "com=month1&month2\n",
    "print(\"method 2\",com)"
   ]
  },
  {
   "cell_type": "code",
   "execution_count": 31,
   "id": "31ba6e12-21ee-4e74-b068-527db2266344",
   "metadata": {},
   "outputs": [
    {
     "name": "stdout",
     "output_type": "stream",
     "text": [
      "{'Mar', 'Jan', 'Apr', 'Feb', 'Jun', 'May'}\n"
     ]
    }
   ],
   "source": [
    "month1={\"Jan\",\"Feb\",\"Mar\",\"Apr\",\"May\",\"Jun\",\"Aug\",\"Nov\"}\n",
    "month2={\"Jul\",\"Aug\",\"Sept\",\"Oct\",\"Nov\",\"Dec\"}\n",
    "difference=month1.difference(month2)\n",
    "print(difference)"
   ]
  },
  {
   "cell_type": "code",
   "execution_count": 37,
   "id": "34201a9a-5c79-4ca1-bbad-8437e1480f48",
   "metadata": {},
   "outputs": [],
   "source": [
    "month1={\"Jan\",\"Feb\",\"Dec\",\"Mar\"}\n",
    "month2={\"Jan\",\"Feb\"}"
   ]
  },
  {
   "cell_type": "code",
   "execution_count": 39,
   "id": "a4054d2a-8b72-41fc-b7d6-9fbe51d2b346",
   "metadata": {},
   "outputs": [
    {
     "data": {
      "text/plain": [
       "True"
      ]
     },
     "execution_count": 39,
     "metadata": {},
     "output_type": "execute_result"
    }
   ],
   "source": [
    "month1>month2"
   ]
  },
  {
   "cell_type": "code",
   "execution_count": null,
   "id": "c65d23c4-86e3-4872-bb88-ab58866b6831",
   "metadata": {},
   "outputs": [],
   "source": []
  }
 ],
 "metadata": {
  "kernelspec": {
   "display_name": "Python 3 (ipykernel)",
   "language": "python",
   "name": "python3"
  },
  "language_info": {
   "codemirror_mode": {
    "name": "ipython",
    "version": 3
   },
   "file_extension": ".py",
   "mimetype": "text/x-python",
   "name": "python",
   "nbconvert_exporter": "python",
   "pygments_lexer": "ipython3",
   "version": "3.12.4"
  }
 },
 "nbformat": 4,
 "nbformat_minor": 5
}
