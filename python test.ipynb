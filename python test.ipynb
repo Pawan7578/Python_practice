{
 "cells": [
  {
   "cell_type": "code",
   "execution_count": null,
   "id": "3f82bc58-4004-4f3a-bd1a-6d7e6a31e89a",
   "metadata": {},
   "outputs": [],
   "source": [
    "# SET 1"
   ]
  },
  {
   "cell_type": "code",
   "execution_count": 1,
   "id": "170f9c61-7a6a-440c-87c0-47fa3edd6f81",
   "metadata": {},
   "outputs": [
    {
     "name": "stdin",
     "output_type": "stream",
     "text": [
      "Enter the number 3\n"
     ]
    },
    {
     "name": "stdout",
     "output_type": "stream",
     "text": [
      "It is Odd\n"
     ]
    }
   ],
   "source": [
    "number=int(input(\"Enter the number\"))\n",
    "if (number%2==0):\n",
    "    print(\"It is Even\")\n",
    "else:\n",
    "    print(\"It is Odd\")"
   ]
  },
  {
   "cell_type": "code",
   "execution_count": 11,
   "id": "93572a71-96c2-4b27-8aa7-f97d115d9f09",
   "metadata": {},
   "outputs": [
    {
     "name": "stdin",
     "output_type": "stream",
     "text": [
      "Enter the first number:  7\n",
      "Enter the second number:  5\n",
      "Enter the third number:  6\n"
     ]
    },
    {
     "name": "stdout",
     "output_type": "stream",
     "text": [
      "The greatest number is a\n"
     ]
    }
   ],
   "source": [
    "# max of three numbers\n",
    "a = float(input(\"Enter the first number: \"))\n",
    "b= float(input(\"Enter the second number: \"))\n",
    "c= float(input(\"Enter the third number: \"))\n",
    "\n",
    "if (a >= b) & (a >= b):\n",
    "    print(\"The greatest number is a\")\n",
    "    \n",
    "elif (b >= a) &(b >= c):\n",
    "    print(\"The greatest number is b\")\n",
    "else:\n",
    "    print(\"The greatest number is c\")\n",
    "\n"
   ]
  },
  {
   "cell_type": "code",
   "execution_count": 15,
   "id": "7b97d81a-7fd3-48a7-b9b4-30071cf084da",
   "metadata": {},
   "outputs": [
    {
     "name": "stdout",
     "output_type": "stream",
     "text": [
      "{25: ['Ravi'], 18: ['Abi'], 30: ['Sri']}\n"
     ]
    }
   ],
   "source": [
    "# Given dictionary of names and ages\n",
    "dict= {\"Abi\": 18,\"Sri\": 30,\"Ravi\": 25}\n",
    "names = {age: [name for name in names_ages if names_ages[name] == age] for age in set(names_ages.values())}\n",
    "print(names)"
   ]
  },
  {
   "cell_type": "code",
   "execution_count": null,
   "id": "aa5f0716-23da-4aff-b634-1b09632e3170",
   "metadata": {},
   "outputs": [],
   "source": []
  }
 ],
 "metadata": {
  "kernelspec": {
   "display_name": "Python 3 (ipykernel)",
   "language": "python",
   "name": "python3"
  },
  "language_info": {
   "codemirror_mode": {
    "name": "ipython",
    "version": 3
   },
   "file_extension": ".py",
   "mimetype": "text/x-python",
   "name": "python",
   "nbconvert_exporter": "python",
   "pygments_lexer": "ipython3",
   "version": "3.12.4"
  }
 },
 "nbformat": 4,
 "nbformat_minor": 5
}
