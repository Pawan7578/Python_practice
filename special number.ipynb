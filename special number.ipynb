{
 "cells": [
  {
   "cell_type": "code",
   "execution_count": 19,
   "id": "168eb070-ec7e-41c8-a200-86c567317e61",
   "metadata": {},
   "outputs": [
    {
     "name": "stdin",
     "output_type": "stream",
     "text": [
      " 69\n"
     ]
    },
    {
     "name": "stdout",
     "output_type": "stream",
     "text": [
      "First digit :  6\n",
      "Second digit :  9\n",
      "Result 69\n",
      "Its a Special number\n"
     ]
    }
   ],
   "source": [
    "x=int(input())\n",
    "f=x//10\n",
    "s=x%10\n",
    "print(\"First digit : \",f)\n",
    "print(\"Second digit : \",s)\n",
    "result=(f+s)+(f*s)\n",
    "print(\"Result\",result)\n",
    "if x==result:\n",
    "    print(\"Its a Special number\")\n",
    "else:\n",
    "    print(\"Not a special number\")\n"
   ]
  },
  {
   "cell_type": "code",
   "execution_count": 1,
   "id": "a865f508-0e3f-4c0b-9a83-1a54e701c6f7",
   "metadata": {},
   "outputs": [
    {
     "name": "stdin",
     "output_type": "stream",
     "text": [
      " 100\n"
     ]
    },
    {
     "name": "stdout",
     "output_type": "stream",
     "text": [
      "Happy Number\n"
     ]
    }
   ],
   "source": [
    "def is_happy_number(num):\n",
    "    def sum_of_squares(n):\n",
    "        return sum(int(digit) ** 2 for digit in str(n))\n",
    "\n",
    "    visited_numbers = set()\n",
    "    \n",
    "    while num != 1 and num not in visited_numbers:\n",
    "        visited_numbers.add(num)\n",
    "        num = sum_of_squares(num)\n",
    "    \n",
    "    if num == 1:\n",
    "        return \"Happy Number\"\n",
    "    else:\n",
    "        return \"Not a Happy Number\"\n",
    "\n",
    "number = int(input())\n",
    "print(is_happy_number(number))"
   ]
  },
  {
   "cell_type": "code",
   "execution_count": null,
   "id": "aff2b530-39f3-4276-8345-911d0ce4e1bf",
   "metadata": {},
   "outputs": [],
   "source": []
  }
 ],
 "metadata": {
  "kernelspec": {
   "display_name": "Python 3 (ipykernel)",
   "language": "python",
   "name": "python3"
  },
  "language_info": {
   "codemirror_mode": {
    "name": "ipython",
    "version": 3
   },
   "file_extension": ".py",
   "mimetype": "text/x-python",
   "name": "python",
   "nbconvert_exporter": "python",
   "pygments_lexer": "ipython3",
   "version": "3.12.4"
  }
 },
 "nbformat": 4,
 "nbformat_minor": 5
}
