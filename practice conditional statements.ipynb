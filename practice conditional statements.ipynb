{
 "cells": [
  {
   "cell_type": "code",
   "execution_count": 9,
   "id": "4de81af3-1e68-422c-9483-3455b8c1ee20",
   "metadata": {},
   "outputs": [
    {
     "name": "stdin",
     "output_type": "stream",
     "text": [
      " sjn\n",
      " hbds\n"
     ]
    },
    {
     "name": "stdout",
     "output_type": "stream",
     "text": [
      "<class 'str'>\n",
      "<class 'str'>\n",
      "not a  same string\n"
     ]
    }
   ],
   "source": [
    "x=input()\n",
    "y=input() \n",
    "print(type(x))\n",
    "print(type(y))\n",
    "if x==y:\n",
    "    print(\"Same string\")\n",
    "else:\n",
    "    print(\"not a same string\")\n"
   ]
  },
  {
   "cell_type": "code",
   "execution_count": 13,
   "id": "4f97c62c-14a1-4009-ab1f-c28241fbe54a",
   "metadata": {},
   "outputs": [
    {
     "name": "stdin",
     "output_type": "stream",
     "text": [
      " 14\n"
     ]
    },
    {
     "name": "stdout",
     "output_type": "stream",
     "text": [
      "It is multiple of 7\n"
     ]
    }
   ],
   "source": [
    "x=int(input())\n",
    "if x%7==0:\n",
    "    print(\"It is multiple of 7\")\n",
    "else:\n",
    "    print(\"No\")"
   ]
  },
  {
   "cell_type": "code",
   "execution_count": 35,
   "id": "79f4150e-0cbb-48d3-bee3-0a90813544ca",
   "metadata": {},
   "outputs": [
    {
     "name": "stdin",
     "output_type": "stream",
     "text": [
      " 7\n",
      " 10\n",
      " 7\n"
     ]
    },
    {
     "name": "stdout",
     "output_type": "stream",
     "text": [
      "yes\n"
     ]
    }
   ],
   "source": [
    "n=int(input())\n",
    "l=int(input())\n",
    "r=int(input())\n",
    "if n>=l and n<=r:\n",
    "    print(\"Yes\")\n",
    "elif n<=l and n>=r:\n",
    "    print(\"yes\")\n",
    "else:\n",
    "    print(\"No\")"
   ]
  },
  {
   "cell_type": "code",
   "execution_count": 33,
   "id": "91d87ea9-99ca-46f5-8dd9-c3971ce64c70",
   "metadata": {},
   "outputs": [
    {
     "name": "stdin",
     "output_type": "stream",
     "text": [
      " 10\n",
      " 7\n",
      " 7\n"
     ]
    },
    {
     "name": "stdout",
     "output_type": "stream",
     "text": [
      "no\n"
     ]
    }
   ],
   "source": [
    "n = int(input())\n",
    "l = int(input())\n",
    "r = int(input())\n",
    "if l > r:\n",
    "    l, r = r, l \n",
    "if l <= n <= r:\n",
    "    print(\"yes\")\n",
    "else:\n",
    "    print(\"no\")"
   ]
  }
 ],
 "metadata": {
  "kernelspec": {
   "display_name": "Python 3 (ipykernel)",
   "language": "python",
   "name": "python3"
  },
  "language_info": {
   "codemirror_mode": {
    "name": "ipython",
    "version": 3
   },
   "file_extension": ".py",
   "mimetype": "text/x-python",
   "name": "python",
   "nbconvert_exporter": "python",
   "pygments_lexer": "ipython3",
   "version": "3.12.4"
  }
 },
 "nbformat": 4,
 "nbformat_minor": 5
}
