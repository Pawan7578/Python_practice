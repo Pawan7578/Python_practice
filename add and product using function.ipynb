{
 "cells": [
  {
   "cell_type": "code",
   "execution_count": 3,
   "id": "b63a8544-efd9-40e5-a361-5671ab4a3b2a",
   "metadata": {},
   "outputs": [
    {
     "name": "stdin",
     "output_type": "stream",
     "text": [
      " Enter X :  2\n",
      " Enter Y :  4\n",
      " Enter Z :  6\n"
     ]
    },
    {
     "name": "stdout",
     "output_type": "stream",
     "text": [
      "12.0\n",
      "48.0\n"
     ]
    }
   ],
   "source": [
    "x=int(input(\" Enter X : \"))\n",
    "y=float(input(\" Enter Y : \"))\n",
    "z=int(input(\" Enter Z : \"))\n",
    "def add():\n",
    "    sum=x+y+z\n",
    "    return sum\n",
    "def pro():\n",
    "    prod=x*y*z\n",
    "    return prod\n",
    "print(add())\n",
    "print(pro())\n",
    "    "
   ]
  },
  {
   "cell_type": "code",
   "execution_count": null,
   "id": "f3fe5f74-1a7c-4723-85b3-93e1b3c1b52c",
   "metadata": {},
   "outputs": [],
   "source": []
  }
 ],
 "metadata": {
  "kernelspec": {
   "display_name": "Python 3 (ipykernel)",
   "language": "python",
   "name": "python3"
  },
  "language_info": {
   "codemirror_mode": {
    "name": "ipython",
    "version": 3
   },
   "file_extension": ".py",
   "mimetype": "text/x-python",
   "name": "python",
   "nbconvert_exporter": "python",
   "pygments_lexer": "ipython3",
   "version": "3.12.4"
  }
 },
 "nbformat": 4,
 "nbformat_minor": 5
}
